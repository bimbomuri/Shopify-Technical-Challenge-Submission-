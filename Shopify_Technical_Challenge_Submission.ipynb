{
  "nbformat": 4,
  "nbformat_minor": 0,
  "metadata": {
    "colab": {
      "name": "Shopify Technical Challenge Submission.ipynb",
      "provenance": [],
      "collapsed_sections": []
    },
    "kernelspec": {
      "name": "python3",
      "display_name": "Python 3"
    },
    "language_info": {
      "name": "python"
    }
  },
  "cells": [
    {
      "cell_type": "code",
      "metadata": {
        "id": "UCyI1JJseWaG"
      },
      "source": [
        "#importing python libraries needed\n",
        "import numpy as np\n",
        "import pandas as pd\n",
        "import matplotlib.pyplot as plt\n",
        "import seaborn as sns"
      ],
      "execution_count": 1,
      "outputs": []
    },
    {
      "cell_type": "code",
      "metadata": {
        "colab": {
          "base_uri": "https://localhost:8080/",
          "height": 197
        },
        "id": "wbrXAA2beltc",
        "outputId": "e142702f-b13c-4efd-cfc8-a709f8be2074"
      },
      "source": [
        "#loading the data into the notebook\n",
        "df = pd.read_excel('/content/2019 Winter Data Science Intern Challenge Data Set.xlsx')\n",
        "\n",
        "#displaying the first five rows in the dataset\n",
        "df.head()"
      ],
      "execution_count": 2,
      "outputs": [
        {
          "output_type": "execute_result",
          "data": {
            "text/html": [
              "<div>\n",
              "<style scoped>\n",
              "    .dataframe tbody tr th:only-of-type {\n",
              "        vertical-align: middle;\n",
              "    }\n",
              "\n",
              "    .dataframe tbody tr th {\n",
              "        vertical-align: top;\n",
              "    }\n",
              "\n",
              "    .dataframe thead th {\n",
              "        text-align: right;\n",
              "    }\n",
              "</style>\n",
              "<table border=\"1\" class=\"dataframe\">\n",
              "  <thead>\n",
              "    <tr style=\"text-align: right;\">\n",
              "      <th></th>\n",
              "      <th>order_id</th>\n",
              "      <th>shop_id</th>\n",
              "      <th>user_id</th>\n",
              "      <th>order_amount</th>\n",
              "      <th>total_items</th>\n",
              "      <th>payment_method</th>\n",
              "      <th>created_at</th>\n",
              "    </tr>\n",
              "  </thead>\n",
              "  <tbody>\n",
              "    <tr>\n",
              "      <th>0</th>\n",
              "      <td>1</td>\n",
              "      <td>53</td>\n",
              "      <td>746</td>\n",
              "      <td>224</td>\n",
              "      <td>2</td>\n",
              "      <td>cash</td>\n",
              "      <td>2017-03-13 12:36:56.190</td>\n",
              "    </tr>\n",
              "    <tr>\n",
              "      <th>1</th>\n",
              "      <td>2</td>\n",
              "      <td>92</td>\n",
              "      <td>925</td>\n",
              "      <td>90</td>\n",
              "      <td>1</td>\n",
              "      <td>cash</td>\n",
              "      <td>2017-03-03 17:38:51.999</td>\n",
              "    </tr>\n",
              "    <tr>\n",
              "      <th>2</th>\n",
              "      <td>3</td>\n",
              "      <td>44</td>\n",
              "      <td>861</td>\n",
              "      <td>144</td>\n",
              "      <td>1</td>\n",
              "      <td>cash</td>\n",
              "      <td>2017-03-14 04:23:55.595</td>\n",
              "    </tr>\n",
              "    <tr>\n",
              "      <th>3</th>\n",
              "      <td>4</td>\n",
              "      <td>18</td>\n",
              "      <td>935</td>\n",
              "      <td>156</td>\n",
              "      <td>1</td>\n",
              "      <td>credit_card</td>\n",
              "      <td>2017-03-26 12:43:36.649</td>\n",
              "    </tr>\n",
              "    <tr>\n",
              "      <th>4</th>\n",
              "      <td>5</td>\n",
              "      <td>18</td>\n",
              "      <td>883</td>\n",
              "      <td>156</td>\n",
              "      <td>1</td>\n",
              "      <td>credit_card</td>\n",
              "      <td>2017-03-01 04:35:10.773</td>\n",
              "    </tr>\n",
              "  </tbody>\n",
              "</table>\n",
              "</div>"
            ],
            "text/plain": [
              "   order_id  shop_id  ...  payment_method              created_at\n",
              "0         1       53  ...            cash 2017-03-13 12:36:56.190\n",
              "1         2       92  ...            cash 2017-03-03 17:38:51.999\n",
              "2         3       44  ...            cash 2017-03-14 04:23:55.595\n",
              "3         4       18  ...     credit_card 2017-03-26 12:43:36.649\n",
              "4         5       18  ...     credit_card 2017-03-01 04:35:10.773\n",
              "\n",
              "[5 rows x 7 columns]"
            ]
          },
          "metadata": {
            "tags": []
          },
          "execution_count": 2
        }
      ]
    },
    {
      "cell_type": "code",
      "metadata": {
        "colab": {
          "base_uri": "https://localhost:8080/"
        },
        "id": "6PjJoOgBfq47",
        "outputId": "5d386829-07f8-4506-c697-28d5e42c97f5"
      },
      "source": [
        "#checking for the size of the data\n",
        "df.shape"
      ],
      "execution_count": 3,
      "outputs": [
        {
          "output_type": "execute_result",
          "data": {
            "text/plain": [
              "(5000, 7)"
            ]
          },
          "metadata": {
            "tags": []
          },
          "execution_count": 3
        }
      ]
    },
    {
      "cell_type": "code",
      "metadata": {
        "colab": {
          "base_uri": "https://localhost:8080/"
        },
        "id": "1b8z4W8netiK",
        "outputId": "2777fc5a-4614-4e98-e237-f177cd3cf9ea"
      },
      "source": [
        "#checking for null values\n",
        "df.isnull().sum()"
      ],
      "execution_count": 4,
      "outputs": [
        {
          "output_type": "execute_result",
          "data": {
            "text/plain": [
              "order_id          0\n",
              "shop_id           0\n",
              "user_id           0\n",
              "order_amount      0\n",
              "total_items       0\n",
              "payment_method    0\n",
              "created_at        0\n",
              "dtype: int64"
            ]
          },
          "metadata": {
            "tags": []
          },
          "execution_count": 4
        }
      ]
    },
    {
      "cell_type": "code",
      "metadata": {
        "colab": {
          "base_uri": "https://localhost:8080/"
        },
        "id": "FCGXJ5W2fEei",
        "outputId": "a302c22e-e6e0-4dd5-95ec-ca7672836bef"
      },
      "source": [
        "#\n",
        "df.order_amount.describe()"
      ],
      "execution_count": 5,
      "outputs": [
        {
          "output_type": "execute_result",
          "data": {
            "text/plain": [
              "count      5000.000000\n",
              "mean       3145.128000\n",
              "std       41282.539349\n",
              "min          90.000000\n",
              "25%         163.000000\n",
              "50%         284.000000\n",
              "75%         390.000000\n",
              "max      704000.000000\n",
              "Name: order_amount, dtype: float64"
            ]
          },
          "metadata": {
            "tags": []
          },
          "execution_count": 5
        }
      ]
    },
    {
      "cell_type": "code",
      "metadata": {
        "colab": {
          "base_uri": "https://localhost:8080/"
        },
        "id": "3Ti_KHtoflke",
        "outputId": "83271b44-8645-461b-db2b-be7d25b1d3de"
      },
      "source": [
        "#We can ascertain that we have 100 different shops/shopIDS. It is evident that the inaccurate calculation is not from a miscount of shops.\n",
        "len(df['shop_id'].value_counts())"
      ],
      "execution_count": 6,
      "outputs": [
        {
          "output_type": "execute_result",
          "data": {
            "text/plain": [
              "100"
            ]
          },
          "metadata": {
            "tags": []
          },
          "execution_count": 6
        }
      ]
    },
    {
      "cell_type": "code",
      "metadata": {
        "colab": {
          "base_uri": "https://localhost:8080/"
        },
        "id": "vYddM443jnTJ",
        "outputId": "680496d0-d575-4f89-919f-ad98d497b72e"
      },
      "source": [
        "#AOV is calculated by dividing the total revenue by number of orders\n",
        "\n",
        "AOV =df['order_amount'].sum()/df['total_items'].count()\n",
        "AOV"
      ],
      "execution_count": 7,
      "outputs": [
        {
          "output_type": "execute_result",
          "data": {
            "text/plain": [
              "3145.128"
            ]
          },
          "metadata": {
            "tags": []
          },
          "execution_count": 7
        }
      ]
    },
    {
      "cell_type": "markdown",
      "metadata": {
        "id": "c1tYWyKwmNWA"
      },
      "source": [
        "Evidently we can see that the mean of the data was used to calculate the AOV.\n",
        "\n",
        "Observations:\n",
        "\n",
        "\n",
        "*  The standard deviation is a lot high\n",
        "*  The max value is much higher than all of the other values. Because of this, we could estimate that there are many high-value outliers which are probably the reason the mean to be extremely large. \n",
        "\n"
      ]
    },
    {
      "cell_type": "code",
      "metadata": {
        "colab": {
          "base_uri": "https://localhost:8080/",
          "height": 283
        },
        "id": "xYGTmp1Cl5rm",
        "outputId": "caa102d8-1e92-4c76-9dca-a684ebd9e8d5"
      },
      "source": [
        "#Check for outliers\n",
        "\n",
        "df.boxplot('order_amount')"
      ],
      "execution_count": 8,
      "outputs": [
        {
          "output_type": "execute_result",
          "data": {
            "text/plain": [
              "<matplotlib.axes._subplots.AxesSubplot at 0x7fb34ddcf4d0>"
            ]
          },
          "metadata": {
            "tags": []
          },
          "execution_count": 8
        },
        {
          "output_type": "display_data",
          "data": {
            "image/png": "[encoded data removed]",
            "text/plain": [
              "<Figure size 432x288 with 1 Axes>"
            ]
          },
          "metadata": {
            "tags": [],
            "needs_background": "light"
          }
        }
      ]
    },
    {
      "cell_type": "markdown",
      "metadata": {
        "id": "R6Le3M14sVc0"
      },
      "source": [
        "From the boxplot above, we can see that there is a substantial amount of outliers present around the 700,000 order_amount value. We will then group by order values and check the counts of each datapoint.\n"
      ]
    },
    {
      "cell_type": "code",
      "metadata": {
        "colab": {
          "base_uri": "https://localhost:8080/",
          "height": 647
        },
        "id": "bMGf8Hi6sq8m",
        "outputId": "f6fb0d59-015c-4849-bcea-e0d933979d0d"
      },
      "source": [
        "df_groupby = df.groupby(['order_amount']).size()\n",
        "df_outliers = df_groupby.reset_index(name='Counts').sort_values(by='order_amount', ascending = False)\n",
        "df_outliers.head(20)"
      ],
      "execution_count": 9,
      "outputs": [
        {
          "output_type": "execute_result",
          "data": {
            "text/html": [
              "<div>\n",
              "<style scoped>\n",
              "    .dataframe tbody tr th:only-of-type {\n",
              "        vertical-align: middle;\n",
              "    }\n",
              "\n",
              "    .dataframe tbody tr th {\n",
              "        vertical-align: top;\n",
              "    }\n",
              "\n",
              "    .dataframe thead th {\n",
              "        text-align: right;\n",
              "    }\n",
              "</style>\n",
              "<table border=\"1\" class=\"dataframe\">\n",
              "  <thead>\n",
              "    <tr style=\"text-align: right;\">\n",
              "      <th></th>\n",
              "      <th>order_amount</th>\n",
              "      <th>Counts</th>\n",
              "    </tr>\n",
              "  </thead>\n",
              "  <tbody>\n",
              "    <tr>\n",
              "      <th>257</th>\n",
              "      <td>704000</td>\n",
              "      <td>17</td>\n",
              "    </tr>\n",
              "    <tr>\n",
              "      <th>256</th>\n",
              "      <td>154350</td>\n",
              "      <td>1</td>\n",
              "    </tr>\n",
              "    <tr>\n",
              "      <th>255</th>\n",
              "      <td>102900</td>\n",
              "      <td>1</td>\n",
              "    </tr>\n",
              "    <tr>\n",
              "      <th>254</th>\n",
              "      <td>77175</td>\n",
              "      <td>9</td>\n",
              "    </tr>\n",
              "    <tr>\n",
              "      <th>253</th>\n",
              "      <td>51450</td>\n",
              "      <td>16</td>\n",
              "    </tr>\n",
              "    <tr>\n",
              "      <th>252</th>\n",
              "      <td>25725</td>\n",
              "      <td>19</td>\n",
              "    </tr>\n",
              "    <tr>\n",
              "      <th>251</th>\n",
              "      <td>1760</td>\n",
              "      <td>1</td>\n",
              "    </tr>\n",
              "    <tr>\n",
              "      <th>250</th>\n",
              "      <td>1408</td>\n",
              "      <td>2</td>\n",
              "    </tr>\n",
              "    <tr>\n",
              "      <th>249</th>\n",
              "      <td>1086</td>\n",
              "      <td>1</td>\n",
              "    </tr>\n",
              "    <tr>\n",
              "      <th>248</th>\n",
              "      <td>1064</td>\n",
              "      <td>1</td>\n",
              "    </tr>\n",
              "    <tr>\n",
              "      <th>247</th>\n",
              "      <td>1056</td>\n",
              "      <td>3</td>\n",
              "    </tr>\n",
              "    <tr>\n",
              "      <th>246</th>\n",
              "      <td>980</td>\n",
              "      <td>1</td>\n",
              "    </tr>\n",
              "    <tr>\n",
              "      <th>245</th>\n",
              "      <td>965</td>\n",
              "      <td>1</td>\n",
              "    </tr>\n",
              "    <tr>\n",
              "      <th>244</th>\n",
              "      <td>960</td>\n",
              "      <td>2</td>\n",
              "    </tr>\n",
              "    <tr>\n",
              "      <th>243</th>\n",
              "      <td>948</td>\n",
              "      <td>1</td>\n",
              "    </tr>\n",
              "    <tr>\n",
              "      <th>242</th>\n",
              "      <td>935</td>\n",
              "      <td>3</td>\n",
              "    </tr>\n",
              "    <tr>\n",
              "      <th>241</th>\n",
              "      <td>920</td>\n",
              "      <td>1</td>\n",
              "    </tr>\n",
              "    <tr>\n",
              "      <th>240</th>\n",
              "      <td>890</td>\n",
              "      <td>1</td>\n",
              "    </tr>\n",
              "    <tr>\n",
              "      <th>239</th>\n",
              "      <td>885</td>\n",
              "      <td>2</td>\n",
              "    </tr>\n",
              "    <tr>\n",
              "      <th>238</th>\n",
              "      <td>880</td>\n",
              "      <td>3</td>\n",
              "    </tr>\n",
              "  </tbody>\n",
              "</table>\n",
              "</div>"
            ],
            "text/plain": [
              "     order_amount  Counts\n",
              "257        704000      17\n",
              "256        154350       1\n",
              "255        102900       1\n",
              "254         77175       9\n",
              "253         51450      16\n",
              "252         25725      19\n",
              "251          1760       1\n",
              "250          1408       2\n",
              "249          1086       1\n",
              "248          1064       1\n",
              "247          1056       3\n",
              "246           980       1\n",
              "245           965       1\n",
              "244           960       2\n",
              "243           948       1\n",
              "242           935       3\n",
              "241           920       1\n",
              "240           890       1\n",
              "239           885       2\n",
              "238           880       3"
            ]
          },
          "metadata": {
            "tags": []
          },
          "execution_count": 9
        }
      ]
    },
    {
      "cell_type": "markdown",
      "metadata": {
        "id": "WxRKf3A-u9Nw"
      },
      "source": [
        "From the outliers table we have discovered that our high data points such as (704000, 77175, 51450, 25725) occured so many times. \n",
        "But can this be a reason for our inaccurate Average order value?\n",
        "\n",
        "We will go into details of these high ordered values to see how these items were bought."
      ]
    },
    {
      "cell_type": "code",
      "metadata": {
        "colab": {
          "base_uri": "https://localhost:8080/",
          "height": 406
        },
        "id": "TybeJwWZu818",
        "outputId": "c5f048ce-8500-40e3-a522-698b7d38392e"
      },
      "source": [
        "high_orders = df.loc[df['order_amount'].isin([704000, 77175, 51450, 25725])].sort_values(by='order_amount', ascending=False)\n",
        "high_orders"
      ],
      "execution_count": 10,
      "outputs": [
        {
          "output_type": "execute_result",
          "data": {
            "text/html": [
              "<div>\n",
              "<style scoped>\n",
              "    .dataframe tbody tr th:only-of-type {\n",
              "        vertical-align: middle;\n",
              "    }\n",
              "\n",
              "    .dataframe tbody tr th {\n",
              "        vertical-align: top;\n",
              "    }\n",
              "\n",
              "    .dataframe thead th {\n",
              "        text-align: right;\n",
              "    }\n",
              "</style>\n",
              "<table border=\"1\" class=\"dataframe\">\n",
              "  <thead>\n",
              "    <tr style=\"text-align: right;\">\n",
              "      <th></th>\n",
              "      <th>order_id</th>\n",
              "      <th>shop_id</th>\n",
              "      <th>user_id</th>\n",
              "      <th>order_amount</th>\n",
              "      <th>total_items</th>\n",
              "      <th>payment_method</th>\n",
              "      <th>created_at</th>\n",
              "    </tr>\n",
              "  </thead>\n",
              "  <tbody>\n",
              "    <tr>\n",
              "      <th>15</th>\n",
              "      <td>16</td>\n",
              "      <td>42</td>\n",
              "      <td>607</td>\n",
              "      <td>704000</td>\n",
              "      <td>2000</td>\n",
              "      <td>credit_card</td>\n",
              "      <td>2017-03-07 04:00:00.000</td>\n",
              "    </tr>\n",
              "    <tr>\n",
              "      <th>1362</th>\n",
              "      <td>1363</td>\n",
              "      <td>42</td>\n",
              "      <td>607</td>\n",
              "      <td>704000</td>\n",
              "      <td>2000</td>\n",
              "      <td>credit_card</td>\n",
              "      <td>2017-03-15 04:00:00.000</td>\n",
              "    </tr>\n",
              "    <tr>\n",
              "      <th>3332</th>\n",
              "      <td>3333</td>\n",
              "      <td>42</td>\n",
              "      <td>607</td>\n",
              "      <td>704000</td>\n",
              "      <td>2000</td>\n",
              "      <td>credit_card</td>\n",
              "      <td>2017-03-24 04:00:00.000</td>\n",
              "    </tr>\n",
              "    <tr>\n",
              "      <th>4056</th>\n",
              "      <td>4057</td>\n",
              "      <td>42</td>\n",
              "      <td>607</td>\n",
              "      <td>704000</td>\n",
              "      <td>2000</td>\n",
              "      <td>credit_card</td>\n",
              "      <td>2017-03-28 04:00:00.000</td>\n",
              "    </tr>\n",
              "    <tr>\n",
              "      <th>2969</th>\n",
              "      <td>2970</td>\n",
              "      <td>42</td>\n",
              "      <td>607</td>\n",
              "      <td>704000</td>\n",
              "      <td>2000</td>\n",
              "      <td>credit_card</td>\n",
              "      <td>2017-03-28 04:00:00.000</td>\n",
              "    </tr>\n",
              "    <tr>\n",
              "      <th>...</th>\n",
              "      <td>...</td>\n",
              "      <td>...</td>\n",
              "      <td>...</td>\n",
              "      <td>...</td>\n",
              "      <td>...</td>\n",
              "      <td>...</td>\n",
              "      <td>...</td>\n",
              "    </tr>\n",
              "    <tr>\n",
              "      <th>1204</th>\n",
              "      <td>1205</td>\n",
              "      <td>78</td>\n",
              "      <td>970</td>\n",
              "      <td>25725</td>\n",
              "      <td>1</td>\n",
              "      <td>credit_card</td>\n",
              "      <td>2017-03-17 22:32:21.438</td>\n",
              "    </tr>\n",
              "    <tr>\n",
              "      <th>1193</th>\n",
              "      <td>1194</td>\n",
              "      <td>78</td>\n",
              "      <td>944</td>\n",
              "      <td>25725</td>\n",
              "      <td>1</td>\n",
              "      <td>debit</td>\n",
              "      <td>2017-03-16 16:38:25.551</td>\n",
              "    </tr>\n",
              "    <tr>\n",
              "      <th>1056</th>\n",
              "      <td>1057</td>\n",
              "      <td>78</td>\n",
              "      <td>800</td>\n",
              "      <td>25725</td>\n",
              "      <td>1</td>\n",
              "      <td>debit</td>\n",
              "      <td>2017-03-15 10:16:44.830</td>\n",
              "    </tr>\n",
              "    <tr>\n",
              "      <th>160</th>\n",
              "      <td>161</td>\n",
              "      <td>78</td>\n",
              "      <td>990</td>\n",
              "      <td>25725</td>\n",
              "      <td>1</td>\n",
              "      <td>credit_card</td>\n",
              "      <td>2017-03-12 05:56:56.834</td>\n",
              "    </tr>\n",
              "    <tr>\n",
              "      <th>4918</th>\n",
              "      <td>4919</td>\n",
              "      <td>78</td>\n",
              "      <td>823</td>\n",
              "      <td>25725</td>\n",
              "      <td>1</td>\n",
              "      <td>cash</td>\n",
              "      <td>2017-03-15 13:26:46.262</td>\n",
              "    </tr>\n",
              "  </tbody>\n",
              "</table>\n",
              "<p>61 rows × 7 columns</p>\n",
              "</div>"
            ],
            "text/plain": [
              "      order_id  shop_id  ...  payment_method              created_at\n",
              "15          16       42  ...     credit_card 2017-03-07 04:00:00.000\n",
              "1362      1363       42  ...     credit_card 2017-03-15 04:00:00.000\n",
              "3332      3333       42  ...     credit_card 2017-03-24 04:00:00.000\n",
              "4056      4057       42  ...     credit_card 2017-03-28 04:00:00.000\n",
              "2969      2970       42  ...     credit_card 2017-03-28 04:00:00.000\n",
              "...        ...      ...  ...             ...                     ...\n",
              "1204      1205       78  ...     credit_card 2017-03-17 22:32:21.438\n",
              "1193      1194       78  ...           debit 2017-03-16 16:38:25.551\n",
              "1056      1057       78  ...           debit 2017-03-15 10:16:44.830\n",
              "160        161       78  ...     credit_card 2017-03-12 05:56:56.834\n",
              "4918      4919       78  ...            cash 2017-03-15 13:26:46.262\n",
              "\n",
              "[61 rows x 7 columns]"
            ]
          },
          "metadata": {
            "tags": []
          },
          "execution_count": 10
        }
      ]
    },
    {
      "cell_type": "markdown",
      "metadata": {
        "id": "z9wM5ywCwte9"
      },
      "source": [
        "It appears the order amounts of 704000 occur at the same time each day between the same store and users. The data for order amounts of 51450 and 25725 are as well similar in trend. Mostly suspected to be bulk orders.\n",
        "\n",
        "To better evaluate this data, we can clean some of the values. Let's try plotting only values that are the median +/- 1.5 times the interquartile range."
      ]
    },
    {
      "cell_type": "code",
      "metadata": {
        "colab": {
          "base_uri": "https://localhost:8080/",
          "height": 283
        },
        "id": "FQ9r14cdvKl1",
        "outputId": "28f912db-4e72-4c3b-8afe-0e1d17f4e6ba"
      },
      "source": [
        "q1 = df.order_amount.quantile(q=0.25)\n",
        "q2 = df.order_amount.quantile(q=0.5)\n",
        "q3 = df.order_amount.quantile(q=0.75)\n",
        "IQR = q3 - q1\n",
        "\n",
        "Cleaned_df = df[(df.order_amount < q2 + IQR * 1.5) & (df.order_amount > q2 - IQR * 1.5)]\n",
        "Cleaned_df.boxplot(column='order_amount')"
      ],
      "execution_count": 11,
      "outputs": [
        {
          "output_type": "execute_result",
          "data": {
            "text/plain": [
              "<matplotlib.axes._subplots.AxesSubplot at 0x7fb34ddb11d0>"
            ]
          },
          "metadata": {
            "tags": []
          },
          "execution_count": 11
        },
        {
          "output_type": "display_data",
          "data": {
            "image/png": "[encoded data removed]",
            "text/plain": [
              "<Figure size 432x288 with 1 Axes>"
            ]
          },
          "metadata": {
            "tags": [],
            "needs_background": "light"
          }
        }
      ]
    },
    {
      "cell_type": "code",
      "metadata": {
        "colab": {
          "base_uri": "https://localhost:8080/",
          "height": 287
        },
        "id": "2EH42_0awBnZ",
        "outputId": "d05e5ed3-3f64-49ca-b34a-3611847636e6"
      },
      "source": [
        "#checking the suggested solution\n",
        "Cleaned_df.describe()"
      ],
      "execution_count": 12,
      "outputs": [
        {
          "output_type": "execute_result",
          "data": {
            "text/html": [
              "<div>\n",
              "<style scoped>\n",
              "    .dataframe tbody tr th:only-of-type {\n",
              "        vertical-align: middle;\n",
              "    }\n",
              "\n",
              "    .dataframe tbody tr th {\n",
              "        vertical-align: top;\n",
              "    }\n",
              "\n",
              "    .dataframe thead th {\n",
              "        text-align: right;\n",
              "    }\n",
              "</style>\n",
              "<table border=\"1\" class=\"dataframe\">\n",
              "  <thead>\n",
              "    <tr style=\"text-align: right;\">\n",
              "      <th></th>\n",
              "      <th>order_id</th>\n",
              "      <th>shop_id</th>\n",
              "      <th>user_id</th>\n",
              "      <th>order_amount</th>\n",
              "      <th>total_items</th>\n",
              "    </tr>\n",
              "  </thead>\n",
              "  <tbody>\n",
              "    <tr>\n",
              "      <th>count</th>\n",
              "      <td>4738.000000</td>\n",
              "      <td>4738.000000</td>\n",
              "      <td>4738.000000</td>\n",
              "      <td>4738.000000</td>\n",
              "      <td>4738.00000</td>\n",
              "    </tr>\n",
              "    <tr>\n",
              "      <th>mean</th>\n",
              "      <td>2500.866399</td>\n",
              "      <td>49.770367</td>\n",
              "      <td>850.325876</td>\n",
              "      <td>283.814268</td>\n",
              "      <td>1.89848</td>\n",
              "    </tr>\n",
              "    <tr>\n",
              "      <th>std</th>\n",
              "      <td>1444.266056</td>\n",
              "      <td>29.149727</td>\n",
              "      <td>86.802461</td>\n",
              "      <td>132.061996</td>\n",
              "      <td>0.86278</td>\n",
              "    </tr>\n",
              "    <tr>\n",
              "      <th>min</th>\n",
              "      <td>1.000000</td>\n",
              "      <td>1.000000</td>\n",
              "      <td>700.000000</td>\n",
              "      <td>90.000000</td>\n",
              "      <td>1.00000</td>\n",
              "    </tr>\n",
              "    <tr>\n",
              "      <th>25%</th>\n",
              "      <td>1247.250000</td>\n",
              "      <td>24.000000</td>\n",
              "      <td>776.000000</td>\n",
              "      <td>161.000000</td>\n",
              "      <td>1.00000</td>\n",
              "    </tr>\n",
              "    <tr>\n",
              "      <th>50%</th>\n",
              "      <td>2502.500000</td>\n",
              "      <td>50.000000</td>\n",
              "      <td>851.000000</td>\n",
              "      <td>272.000000</td>\n",
              "      <td>2.00000</td>\n",
              "    </tr>\n",
              "    <tr>\n",
              "      <th>75%</th>\n",
              "      <td>3755.750000</td>\n",
              "      <td>74.000000</td>\n",
              "      <td>926.000000</td>\n",
              "      <td>362.000000</td>\n",
              "      <td>2.00000</td>\n",
              "    </tr>\n",
              "    <tr>\n",
              "      <th>max</th>\n",
              "      <td>5000.000000</td>\n",
              "      <td>100.000000</td>\n",
              "      <td>999.000000</td>\n",
              "      <td>624.000000</td>\n",
              "      <td>5.00000</td>\n",
              "    </tr>\n",
              "  </tbody>\n",
              "</table>\n",
              "</div>"
            ],
            "text/plain": [
              "          order_id      shop_id      user_id  order_amount  total_items\n",
              "count  4738.000000  4738.000000  4738.000000   4738.000000   4738.00000\n",
              "mean   2500.866399    49.770367   850.325876    283.814268      1.89848\n",
              "std    1444.266056    29.149727    86.802461    132.061996      0.86278\n",
              "min       1.000000     1.000000   700.000000     90.000000      1.00000\n",
              "25%    1247.250000    24.000000   776.000000    161.000000      1.00000\n",
              "50%    2502.500000    50.000000   851.000000    272.000000      2.00000\n",
              "75%    3755.750000    74.000000   926.000000    362.000000      2.00000\n",
              "max    5000.000000   100.000000   999.000000    624.000000      5.00000"
            ]
          },
          "metadata": {
            "tags": []
          },
          "execution_count": 12
        }
      ]
    },
    {
      "cell_type": "markdown",
      "metadata": {
        "id": "rSwXMzeBxpcl"
      },
      "source": [
        "1A.Think about what could be going wrong with our calculation. Think about a better way to evaluate this data.\n",
        "\n",
        "Answer: From the solution proferred above, we believe that calculating the AOV with values that are the median +/- 1.5 times the interquartile range.\n",
        "\n"
      ]
    },
    {
      "cell_type": "markdown",
      "metadata": {
        "id": "w4bsR0L1yXLI"
      },
      "source": [
        "1B. What metric would you report for this dataset?\n",
        "\n",
        "Answer: Personally, I can see that from the cleaned data the distribution is somewhat skewed towards the lower values. Hence, I will suggest the MEDIAN metric be used to report for this dataset."
      ]
    },
    {
      "cell_type": "markdown",
      "metadata": {
        "id": "XC85Wa6EzaaN"
      },
      "source": [
        "1C. What is its value?\n",
        "\n",
        "Looking at the description of the cleaned data above we can tell that the value is $272. It also shows that the standard deviation is 132.06, which seems like a much more reasonable result."
      ]
    },
    {
      "cell_type": "markdown",
      "metadata": {
        "id": "q2B5g8Gr0N1B"
      },
      "source": [
        "2A. How many orders were shipped by Speedy Express in total?\n",
        "\n",
        "Answer: 54 orders were shipped by Speedy Express in total\n",
        "\n",
        "\n",
        "Query: SELECT distinct count (*) FROM [Orders]a join [Shippers]b on (a.ShipperID = b.ShipperID)\n",
        "join [Customers]c on (a.CustomerID = c.CustomerID)\n",
        "where b.ShipperName = 'Speedy Express'\n"
      ]
    },
    {
      "cell_type": "markdown",
      "metadata": {
        "id": "nHrA2AvX0aAI"
      },
      "source": [
        "2B.What is the last name of the employee with the most orders?\n",
        "\n",
        "Answer : Peacock is the last name of the employee with the most orders\n",
        "\n",
        "\n",
        "Query : select a.EmployeeID,count(OrderID),a.lastname,a.firstname from [Employees]a join [Orders]b on (a.EmployeeID = b.EmployeeID) group by a.lastname order by count(OrderID) Desc\n"
      ]
    },
    {
      "cell_type": "markdown",
      "metadata": {
        "id": "bF4J116S0mY4"
      },
      "source": [
        "2C.What product was ordered the most by customers in Germany?\n",
        "Answer: \n",
        "Boston Crab Meat\n",
        "\n",
        "Query : SELECT a.ProductID, a.ProductName, SUM(Quantity) AS TotalQuantity\n",
        "FROM Products a, OrderDetails b, Customers  c, Orders d  \n",
        "WHERE c.Country = \"Germany\" AND b.OrderID = d.OrderID AND b.ProductID = a.ProductID AND c.CustomerID = d.CustomerID\n",
        "GROUP BY a.ProductID\n",
        "ORDER BY TotalQuantity DESC\n"
      ]
    }
  ]
}